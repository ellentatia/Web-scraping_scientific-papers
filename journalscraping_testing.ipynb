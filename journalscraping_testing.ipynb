{
 "cells": [
  {
   "cell_type": "markdown",
   "metadata": {},
   "source": [
    "<h2>Web Scraping of Journal Papers:"
   ]
  },
  {
   "cell_type": "markdown",
   "metadata": {},
   "source": [
    "<h4> Tasks: Crawl a journal, follow the papers links, extract the entire text and save in a txt file.\n",
    "     \n",
    "    The following url from the journal was selected:\n",
    "    \n",
    "<a>https://link.springer.com/search?query=indicators&facet-language=%22En%22&showAll=false&facet-content-type=%22Article%22&facet-discipline=%22Life+Sciences%22&facet-sub-discipline=%22Behavioural%22\n",
    "    \n",
    "      Total of 17 papers, all available without subscription "
   ]
  },
  {
   "cell_type": "code",
   "execution_count": 8,
   "metadata": {},
   "outputs": [],
   "source": [
    "# Import libraries\n",
    "import requests\n",
    "from bs4 import BeautifulSoup\n",
    "import urllib\n",
    "import urllib2"
   ]
  },
  {
   "cell_type": "code",
   "execution_count": 9,
   "metadata": {},
   "outputs": [],
   "source": [
    "# URL to webscrape from\n",
    "url = 'https://link.springer.com/search?query=indicators&facet-language=%22En%22&showAll=false&facet-content-type=%22Article%22&facet-discipline=%22Life+Sciences%22&facet-sub-discipline=%22Behavioural%22'\n"
   ]
  },
  {
   "cell_type": "code",
   "execution_count": 10,
   "metadata": {},
   "outputs": [],
   "source": [
    "# Connect to the URL\n",
    "response = requests.get(url)"
   ]
  },
  {
   "cell_type": "code",
   "execution_count": 11,
   "metadata": {},
   "outputs": [],
   "source": [
    "# Parse HTML and save to BeautifulSoup object\n",
    "soup = BeautifulSoup(response.text, \"html.parser\")"
   ]
  },
  {
   "cell_type": "code",
   "execution_count": 12,
   "metadata": {},
   "outputs": [
    {
     "name": "stdout",
     "output_type": "stream",
     "text": [
      "['https://link.springer.com/article/10.1186/1740-3391-11-7/fulltext.html', 'https://link.springer.com/article/10.1186/1740-3391-6-6/fulltext.html', 'https://link.springer.com/article/10.1186/1740-3391-3-13/fulltext.html', 'https://link.springer.com/article/10.1186/1740-3391-10-2/fulltext.html', 'https://link.springer.com/article/10.1186/1740-3391-5-2/fulltext.html', 'https://link.springer.com/article/10.1186/1740-3391-7-9/fulltext.html', 'https://link.springer.com/article/10.1186/1740-3391-3-15/fulltext.html', 'https://link.springer.com/article/10.1186/1740-3391-4-5/fulltext.html', 'https://link.springer.com/article/10.1186/1740-3391-3-5/fulltext.html', 'https://link.springer.com/article/10.1186/1740-3391-9-11/fulltext.html', 'https://link.springer.com/article/10.1186/1740-3391-8-8/fulltext.html', 'https://link.springer.com/article/10.1186/1740-3391-4-14/fulltext.html', 'https://link.springer.com/article/10.1186/1740-3391-3-8/fulltext.html', 'https://link.springer.com/article/10.1186/1740-3391-3-7/fulltext.html', 'https://link.springer.com/article/10.1186/1740-3391-6-4/fulltext.html', 'https://link.springer.com/article/10.1186/1740-3391-7-3/fulltext.html', 'https://link.springer.com/article/10.1186/1740-3391-9-8/fulltext.html']\n",
      "17\n"
     ]
    }
   ],
   "source": [
    "# list of all the papers url on the website\n",
    "link = soup.findAll('a', {'class':'webtrekk-track fulltext'}, href=True)\n",
    "#add the head of the urls in order to open them\n",
    "head = 'https://link.springer.com'\n",
    "urls=[]\n",
    "for links in link:\n",
    "    # just making sure I will get the right link\n",
    "    if links['href'].startswith('/article'):\n",
    "        urls.append(str(head + links['href']))\n",
    "print(urls)\n",
    "# time for the truth, the ammount of extracted links are the same as in the journal search result?\n",
    "print(len(urls))"
   ]
  },
  {
   "cell_type": "code",
   "execution_count": 13,
   "metadata": {},
   "outputs": [],
   "source": [
    "# function to download the links and save in a txt file \n",
    "def download_file_information(url):\n",
    "    #open the url file\n",
    "    fileOpen = urllib2.urlopen(url)\n",
    "    #read the file\n",
    "    file_info = fileOpen.read()\n",
    "    #convert into string\n",
    "    file_info_str=str(file_info)\n",
    "    #split the lines into the file\n",
    "    file_lines = file_info_str.split('\\\\n')\n",
    "    \n",
    "    #creating a new file to store information\n",
    "    newfile = open('papersentiretext.txt', \"w\")\n",
    "    #store all information of the file we have read \n",
    "    for info in file_lines:\n",
    "        newfile.write(info + '\\n')\n",
    "    #close the file\n",
    "    newfile.close()"
   ]
  },
  {
   "cell_type": "code",
   "execution_count": 14,
   "metadata": {},
   "outputs": [],
   "source": [
    "for url in urls:\n",
    "    download_file_information(url)"
   ]
  },
  {
   "cell_type": "markdown",
   "metadata": {},
   "source": [
    "It does the job of extracting and saving the data, but for more complicated situations like pagination, proxy, login in. For that I have been learning and applying Scrapy, a python framework for web crawling and scraping. "
   ]
  },
  {
   "cell_type": "code",
   "execution_count": null,
   "metadata": {},
   "outputs": [],
   "source": []
  }
 ],
 "metadata": {
  "kernelspec": {
   "display_name": "Python 2",
   "language": "python",
   "name": "python2"
  },
  "language_info": {
   "codemirror_mode": {
    "name": "ipython",
    "version": 2
   },
   "file_extension": ".py",
   "mimetype": "text/x-python",
   "name": "python",
   "nbconvert_exporter": "python",
   "pygments_lexer": "ipython2",
   "version": "2.7.17"
  }
 },
 "nbformat": 4,
 "nbformat_minor": 2
}
